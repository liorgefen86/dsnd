{
 "cells": [
  {
   "cell_type": "markdown",
   "metadata": {},
   "source": [
    "# Imports"
   ]
  },
  {
   "cell_type": "code",
   "execution_count": 1,
   "metadata": {},
   "outputs": [],
   "source": [
    "import requests\n",
    "import numpy as np\n",
    "import pandas as pd\n",
    "import matplotlib.pyplot as plt\n",
    "from matplotlib import rc\n",
    "import os\n",
    "\n",
    "from matplotlib import rc\n",
    "\n",
    "%matplotlib inline"
   ]
  },
  {
   "cell_type": "markdown",
   "metadata": {},
   "source": [
    "# Constants\n",
    "\n",
    "Define some constants used for the analysis"
   ]
  },
  {
   "cell_type": "code",
   "execution_count": 2,
   "metadata": {},
   "outputs": [],
   "source": [
    "SCHEMA = 'https://video.udacity-data.com/topher/2018/February/5a8cb627_survey-results-schema/survey-results-schema.csv'\n",
    "DATA = 'https://video.udacity-data.com/topher/2018/February/5a8cb654_survey-results-public/survey-results-public.csv'\n",
    "FILES = ['schema.csv', 'data.csv']"
   ]
  },
  {
   "cell_type": "markdown",
   "metadata": {},
   "source": [
    "# Getting the DATA"
   ]
  },
  {
   "cell_type": "code",
   "execution_count": 3,
   "metadata": {},
   "outputs": [],
   "source": [
    "def get_data(urls, file_names, overwrite=False):\n",
    "    '''\n",
    "    Downloading the data and saving on local machine\n",
    "    Args:\n",
    "        urls -> List[str]: list of urls to CSVs\n",
    "        file_names -> List[str]: list of names for local files\n",
    "        overwite -> bool: overwrite existing files (default False)\n",
    "    Return:\n",
    "        None\n",
    "    '''\n",
    "    \n",
    "    for ind, url in enumerate(urls):\n",
    "        with requests.Session() as s:\n",
    "            response = s.get(url=url)\n",
    "            \n",
    "            file_name = file_names[ind]\n",
    "            file_exist = os.path.exists(file_name)\n",
    "            \n",
    "            if file_exist:\n",
    "                if not overwrite:\n",
    "                    raise FileExistsError(r'File exists.\\n' +\n",
    "                            'Please set overwrite to True to overwrite existing file(s).')\n",
    "                    \n",
    "            with open(file_name, 'w') as file:\n",
    "                file.write(response.text)"
   ]
  },
  {
   "cell_type": "code",
   "execution_count": 4,
   "metadata": {},
   "outputs": [
    {
     "ename": "FileExistsError",
     "evalue": "File exists.\\nPlease set overwrite to True to overwrite existing file(s).",
     "output_type": "error",
     "traceback": [
      "\u001b[0;31m---------------------------------------------------------------------------\u001b[0m",
      "\u001b[0;31mFileExistsError\u001b[0m                           Traceback (most recent call last)",
      "\u001b[0;32m<ipython-input-4-db259b36ec66>\u001b[0m in \u001b[0;36m<module>\u001b[0;34m\u001b[0m\n\u001b[0;32m----> 1\u001b[0;31m \u001b[0mget_data\u001b[0m\u001b[0;34m(\u001b[0m\u001b[0;34m[\u001b[0m\u001b[0mSCHEMA\u001b[0m\u001b[0;34m,\u001b[0m \u001b[0mDATA\u001b[0m\u001b[0;34m]\u001b[0m\u001b[0;34m,\u001b[0m \u001b[0mFILES\u001b[0m\u001b[0;34m,\u001b[0m \u001b[0moverwrite\u001b[0m\u001b[0;34m=\u001b[0m\u001b[0;32mFalse\u001b[0m\u001b[0;34m)\u001b[0m\u001b[0;34m\u001b[0m\u001b[0;34m\u001b[0m\u001b[0m\n\u001b[0m",
      "\u001b[0;32m<ipython-input-3-e382bb2b9ac1>\u001b[0m in \u001b[0;36mget_data\u001b[0;34m(urls, file_names, overwrite)\u001b[0m\n\u001b[1;32m     19\u001b[0m             \u001b[0;32mif\u001b[0m \u001b[0mfile_exist\u001b[0m\u001b[0;34m:\u001b[0m\u001b[0;34m\u001b[0m\u001b[0;34m\u001b[0m\u001b[0m\n\u001b[1;32m     20\u001b[0m                 \u001b[0;32mif\u001b[0m \u001b[0;32mnot\u001b[0m \u001b[0moverwrite\u001b[0m\u001b[0;34m:\u001b[0m\u001b[0;34m\u001b[0m\u001b[0;34m\u001b[0m\u001b[0m\n\u001b[0;32m---> 21\u001b[0;31m                     raise FileExistsError(r'File exists.\\n' +\n\u001b[0m\u001b[1;32m     22\u001b[0m                             'Please set overwrite to True to overwrite existing file(s).')\n\u001b[1;32m     23\u001b[0m \u001b[0;34m\u001b[0m\u001b[0m\n",
      "\u001b[0;31mFileExistsError\u001b[0m: File exists.\\nPlease set overwrite to True to overwrite existing file(s)."
     ]
    }
   ],
   "source": [
    "get_data([SCHEMA, DATA], FILES, overwrite=False)"
   ]
  },
  {
   "cell_type": "code",
   "execution_count": null,
   "metadata": {},
   "outputs": [],
   "source": [
    "schema = pd.read_csv(FILES[0])\n",
    "survey = pd.read_csv(FILES[1])"
   ]
  },
  {
   "cell_type": "markdown",
   "metadata": {},
   "source": [
    "# Analysing the DATA"
   ]
  },
  {
   "cell_type": "code",
   "execution_count": null,
   "metadata": {},
   "outputs": [],
   "source": [
    "# checking the size of the dataset\n",
    "nr = survey.shape[0]\n",
    "nc = survey.shape[1]\n",
    "text = f'There are {nr} rows and {nc} columns'\n",
    "print(text)"
   ]
  },
  {
   "cell_type": "code",
   "execution_count": null,
   "metadata": {},
   "outputs": [],
   "source": [
    "# We are now searching the columns where there is no missing values\n",
    "survey.info()\n",
    "# This function, even if is gives, usually, the numbers of rows and also shows where there are missing values,\n",
    "# is not convenient for this question as it can't be auotmated"
   ]
  },
  {
   "cell_type": "code",
   "execution_count": null,
   "metadata": {},
   "outputs": [],
   "source": [
    "columns_wo_na = survey.columns[~survey.isna().any()]\n",
    "print(f'The following columns have no missing values:\\n{\", \".join(columns_wo_na.values)}')"
   ]
  },
  {
   "cell_type": "code",
   "execution_count": null,
   "metadata": {},
   "outputs": [],
   "source": [
    "# We want to find the columns where more than 75% of the values are missing\n",
    "columns_with_most_na = survey.columns[(survey.isna().sum() / nc) >= 0.75]\n",
    "columns_with_most_na"
   ]
  },
  {
   "cell_type": "code",
   "execution_count": null,
   "metadata": {},
   "outputs": [],
   "source": [
    "# We will create a reduced size dataset to play with\n",
    "reduced_survey = survey.loc[:, ~survey.columns.isin(columns_with_most_na)]"
   ]
  },
  {
   "cell_type": "code",
   "execution_count": null,
   "metadata": {},
   "outputs": [],
   "source": [
    "reduced_survey.head()"
   ]
  },
  {
   "cell_type": "code",
   "execution_count": null,
   "metadata": {},
   "outputs": [],
   "source": [
    "# Changing the index to be the Column index: each row will have the header as index\n",
    "schema.set_index(keys='Column', drop=True, inplace=True)"
   ]
  },
  {
   "cell_type": "code",
   "execution_count": null,
   "metadata": {},
   "outputs": [],
   "source": [
    "schema.head()"
   ]
  },
  {
   "cell_type": "code",
   "execution_count": null,
   "metadata": {},
   "outputs": [],
   "source": [
    "# Description of the features in reduced_survey dataframe\n",
    "schema.loc[reduced_survey.columns]"
   ]
  },
  {
   "cell_type": "code",
   "execution_count": null,
   "metadata": {},
   "outputs": [],
   "source": [
    "#### Setting some default values for below charts\n",
    "font = {'size': 18, 'family': 'ubuntu'}\n",
    "axes = {'labelsize': 20, 'titlesize': 24, \n",
    "        'spines.left': False,\n",
    "        'spines.right': False,\n",
    "        'spines.top': False,\n",
    "        'spines.bottom': False\n",
    "       }\n",
    "figure = {'figsize': (7, 5), 'dpi': 100}\n",
    "lines = {'linewidth': 4, 'linestyle': '-.'}\n",
    "\n",
    "rc('font', **font)\n",
    "rc('axes', **axes)\n",
    "rc('figure', **figure)"
   ]
  },
  {
   "cell_type": "code",
   "execution_count": null,
   "metadata": {},
   "outputs": [],
   "source": [
    "pro_count = reduced_survey['Professional'].value_counts() / nr\n",
    "pro_count.plot(kind='bar', color='#FEA943')\n",
    "ax = plt.gca()\n",
    "ax.set_title('Proportion of professions')\n",
    "ax.set_xlabel('Profession')\n",
    "ax.set_ylabel('% of total')\n",
    "ax.set_yticks([])\n",
    "for ind, cat in enumerate(pro_count.index):\n",
    "    ax.text(ind-0.25, pro_count[cat]+0.005, f'{pro_count[cat]:.2%}')\n",
    "plt.show()"
   ]
  },
  {
   "cell_type": "markdown",
   "metadata": {},
   "source": [
    "With 70% of the surveyees, the survey was mostly taken by professional developers. 16% are students and occasional developers 10%."
   ]
  },
  {
   "cell_type": "code",
   "execution_count": null,
   "metadata": {},
   "outputs": [],
   "source": [
    "ed_vals = reduced_survey['FormalEducation'].value_counts() / nr\n",
    "ed_vals.plot(kind='bar', color='#5A76BA')\n",
    "ax = plt.gca()\n",
    "ax.set_title('Formal Education')\n",
    "ax.set_xlabel('Education')\n",
    "ax.set_ylabel('% of total')\n",
    "ax.set_yticks([])\n",
    "for ind, cat in enumerate(ed_vals.index):\n",
    "    ax.annotate(\n",
    "        s=f'{ed_vals[cat]:.2%}',\n",
    "        xy=(ind, ed_vals[cat]),\n",
    "        xycoords='data',\n",
    "        xytext=(40, 5),\n",
    "        textcoords='offset points',\n",
    "        arrowprops=dict(arrowstyle='->')\n",
    "    )\n",
    "plt.show()"
   ]
  },
  {
   "cell_type": "markdown",
   "metadata": {},
   "source": [
    "Around 66% of the surveyee have at least a Batchelor degree.\n",
    "\n",
    "How much of the professional developers have at least a batchelor degree?"
   ]
  },
  {
   "cell_type": "code",
   "execution_count": null,
   "metadata": {},
   "outputs": [],
   "source": [
    "pro_dev = reduced_survey.query('Professional == \"Professional developer\"')\n",
    "pro_dev_ed = pro_dev['FormalEducation'].value_counts() / pro_dev.shape[0]\n",
    "pro_dev_ed.plot(kind='bar')\n",
    "ax = plt.gca()\n",
    "ax.set_title('Formal education of Professional Dev')\n",
    "ax.set_xlabel('Education')\n",
    "ax.set_ylabel('% of developers')\n",
    "ax.set_yticks([])\n",
    "for ind, cat in enumerate(pro_dev_ed.index):\n",
    "    ax.text(x=ind, y=pro_dev_ed[cat], s='{:.2%}'.format(pro_dev_ed[cat]))\n",
    "plt.show()"
   ]
  },
  {
   "cell_type": "markdown",
   "metadata": {},
   "source": [
    "Around 75% of professional developers who answered the survey have at least a batchelor degree."
   ]
  },
  {
   "cell_type": "code",
   "execution_count": null,
   "metadata": {},
   "outputs": [],
   "source": [
    "print('There is a total of {} countries in the survey.'.format(reduced_survey['Country'].nunique()))"
   ]
  },
  {
   "cell_type": "code",
   "execution_count": null,
   "metadata": {},
   "outputs": [],
   "source": [
    "count_per_country = reduced_survey['Country'].value_counts() / nr\n",
    "count_per_country[:10].plot(kind='bar')\n",
    "ax = plt.gca()\n",
    "ax.set_title('Distribution per country')\n",
    "ax.set_xlabel('Country')\n",
    "ax.set_ylabel('% of total')\n",
    "ax.set_yticks([])\n",
    "for ind, cat in enumerate(count_per_country[:10].index):\n",
    "    ax.annotate(\n",
    "        s=f'{count_per_country[cat]:.2%}',\n",
    "        xy=(ind, count_per_country[cat]),\n",
    "        xycoords='data',\n",
    "        xytext=(-20, 30),\n",
    "        textcoords='offset points',\n",
    "        arrowprops=dict(arrowstyle='->')\n",
    "    )\n",
    "plt.show()"
   ]
  },
  {
   "cell_type": "markdown",
   "metadata": {},
   "source": [
    "With 22% of surveyee, US is the country with most answers to the survey. India, UK and Germany are altogether at around 30%. All the others are below 5%. US, India, UK and Germany reprensent 50% of all surveyee, on a total of 201 countries in the survey."
   ]
  },
  {
   "cell_type": "code",
   "execution_count": null,
   "metadata": {},
   "outputs": [],
   "source": []
  },
  {
   "cell_type": "code",
   "execution_count": null,
   "metadata": {},
   "outputs": [],
   "source": []
  },
  {
   "cell_type": "code",
   "execution_count": null,
   "metadata": {},
   "outputs": [],
   "source": []
  },
  {
   "cell_type": "code",
   "execution_count": null,
   "metadata": {},
   "outputs": [],
   "source": []
  },
  {
   "cell_type": "code",
   "execution_count": null,
   "metadata": {},
   "outputs": [],
   "source": []
  },
  {
   "cell_type": "code",
   "execution_count": null,
   "metadata": {},
   "outputs": [],
   "source": []
  }
 ],
 "metadata": {
  "kernelspec": {
   "display_name": "Python 3.7.7 64-bit ('py37': conda)",
   "language": "python",
   "name": "python37764bitpy37conda3717021703f140b4b10625cc644415b2"
  },
  "language_info": {
   "codemirror_mode": {
    "name": "ipython",
    "version": 3
   },
   "file_extension": ".py",
   "mimetype": "text/x-python",
   "name": "python",
   "nbconvert_exporter": "python",
   "pygments_lexer": "ipython3",
   "version": "3.7.7"
  }
 },
 "nbformat": 4,
 "nbformat_minor": 4
}
